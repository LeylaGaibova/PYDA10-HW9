{
 "cells": [
  {
   "cell_type": "markdown",
   "metadata": {},
   "source": [
    "\n",
    "Задание 1\n",
    "Напишите функцию, которая принимает на вход строку и проверяет является ли она валидным транспортным номером (1 буква, 3 цифры, 2 буквы, 2-3 цифры). Обратите внимание, что не все буквы кириллического алфавита используются в транспортных номерах.\n",
    "\n",
    "Если номер валиден, то функция должна возвращать отдельно номер и регион.\n",
    "\n",
    "Примеры работы программы:\n",
    "\n",
    "car_id = 'АВ222С96'\n",
    "Результат: Номер АВ222С валиден. Регион: 96\n",
    "\n",
    "car_id = 'АБ22ВВ193'\n",
    "Результат: Номер не валиден"
   ]
  },
  {
   "cell_type": "code",
   "execution_count": 4,
   "metadata": {},
   "outputs": [],
   "source": [
    "import re"
   ]
  },
  {
   "cell_type": "code",
   "execution_count": 57,
   "metadata": {},
   "outputs": [],
   "source": [
    "car_id1 = 'А222СС95'"
   ]
  },
  {
   "cell_type": "code",
   "execution_count": 58,
   "metadata": {},
   "outputs": [],
   "source": [
    "def check_if_valid(car_id):\n",
    "    carid_pattern = r'[АВЕКМНОРСТУХABEKMHOPCTYX]{1}\\d{3}[АВЕКМНОРСТУХABEKMHOPCTYX]{2}\\d{2,3}'\n",
    "    car_number = r'[АВЕКМНОРСТУХABEKMHOPCTYX]{1}\\d{3}[АВЕКМНОРСТУХABEKMHOPCTYX]{2}'\n",
    "    region_number = r'(?<=[АВЕКМНОРСТУХABEKMHOPCTYX]{1}\\d{3}[АВЕКМНОРСТУХABEKMHOPCTYX]{2})\\d{2,3}'\n",
    "    result = re.match(carid_pattern, car_id)\n",
    "    return f'Номер {re.match(car_number, car_id).group()} валиден. Регион: {re.search(region_number, car_id).group()}' if result else 'Номер не валиден'"
   ]
  },
  {
   "cell_type": "code",
   "execution_count": 59,
   "metadata": {},
   "outputs": [
    {
     "data": {
      "text/plain": [
       "'Номер А222СС валиден. Регион: 95'"
      ]
     },
     "execution_count": 59,
     "metadata": {},
     "output_type": "execute_result"
    }
   ],
   "source": [
    "check_if_valid(car_id1)"
   ]
  },
  {
   "cell_type": "markdown",
   "metadata": {},
   "source": [
    "Задание 2\n",
    "Напишите функцию, которая будет удалять все последовательные повторы слов из заданной строки при помощи регулярных выражений.\n",
    "\n",
    "Пример работы программы:\n",
    "\n",
    "some_string = 'Напишите функцию функцию, которая будет будет будет будет удалять все все все все последовательные повторы слов из из из из заданной строки строки при помощи регулярных выражений'\n",
    "\n",
    "Результат: Напишите функцию, которая будет удалять все последовательные повторы слов из заданной строки при помощи регулярных выражений."
   ]
  },
  {
   "cell_type": "code",
   "execution_count": 60,
   "metadata": {},
   "outputs": [],
   "source": [
    "some_string = 'Напишите функцию функцию, которая будет будет будет будет удалять все все все все последовательные повторы слов из из из из заданной строки строки при помощи регулярных выражений'"
   ]
  },
  {
   "cell_type": "code",
   "execution_count": 61,
   "metadata": {},
   "outputs": [],
   "source": [
    "def remove_doubling(text1):\n",
    "    pattern1 = r'(\\w+)(\\s+\\1)+'\n",
    "    return re.sub(pattern1, r'\\1', text1)"
   ]
  },
  {
   "cell_type": "code",
   "execution_count": 62,
   "metadata": {},
   "outputs": [
    {
     "data": {
      "text/plain": [
       "'Напишите функцию, которая будет удалять все последовательные повторы слов из заданной строки при помощи регулярных выражений'"
      ]
     },
     "execution_count": 62,
     "metadata": {},
     "output_type": "execute_result"
    }
   ],
   "source": [
    "remove_doubling(some_string)\n"
   ]
  },
  {
   "cell_type": "markdown",
   "metadata": {},
   "source": [
    "\n",
    "Задание 3\n",
    "Напишите функцию, которая будет возвращать акроним по переданной в нее строке со словами.\n",
    "\n",
    "Примеры работы программы:\n",
    "\n",
    "some_words = 'Информационные технологии'\n",
    "Результат: ИТ\n",
    "\n",
    "some_words = 'Near Field Communication'\n",
    "Результат: NFC"
   ]
  },
  {
   "cell_type": "code",
   "execution_count": 63,
   "metadata": {},
   "outputs": [],
   "source": [
    "some_words = 'Near Field Communication'"
   ]
  },
  {
   "cell_type": "code",
   "execution_count": 64,
   "metadata": {},
   "outputs": [],
   "source": [
    "def first_letters(some_words1):\n",
    "    pattern2 = r'(\\b\\w)(\\w+)' \n",
    "    s = re.sub(pattern2, r'\\1', some_words1)\n",
    "    d = re.sub(r'\\s', '', s)\n",
    "    ff = d.upper()\n",
    "    ii =''\n",
    "    for jj in ff:\n",
    "        ii += jj\n",
    "    return print(ii)"
   ]
  },
  {
   "cell_type": "code",
   "execution_count": 65,
   "metadata": {},
   "outputs": [
    {
     "name": "stdout",
     "output_type": "stream",
     "text": [
      "NFC\n"
     ]
    }
   ],
   "source": [
    "first_letters(some_words)"
   ]
  },
  {
   "cell_type": "markdown",
   "metadata": {},
   "source": [
    "Задание 4\n",
    "Напишите функцию, которая будет принимать на вход список email-адресов и выводить их распределение по доменным зонам.\n",
    "\n",
    "Пример работы программы:\n",
    "\n",
    "emails = ['test@gmail.com', 'xyz@test.in', 'test@ya.ru', 'xyz@mail.ru', 'xyz@ya.ru', 'xyz@gmail.com']\n",
    "\n",
    "Результат:\n",
    "\n",
    "gmail.com: 2\n",
    "test.in: 1 \n",
    "ya.ru: 2 \n",
    "mail.ru: 1"
   ]
  },
  {
   "cell_type": "code",
   "execution_count": 66,
   "metadata": {},
   "outputs": [],
   "source": [
    "emails1 = ['test@gmail.com', 'xyz@test.in', 'test@ya.ru', 'xyz@mail.ru', 'xyz@ya.ru', 'xyz@gmail.com']"
   ]
  },
  {
   "cell_type": "code",
   "execution_count": 67,
   "metadata": {},
   "outputs": [],
   "source": [
    "def domen_q(emails):\n",
    "    dict = {}\n",
    "    ii = ''\n",
    "    pat1 = r'(?<=@).+'\n",
    "    for i in emails:\n",
    "        domen_zone = re.search(pat1, i).group()\n",
    "        if domen_zone not in dict:\n",
    "            dict[domen_zone] = 1\n",
    "        else:\n",
    "            a = dict.get(domen_zone)\n",
    "            dict[domen_zone] = a +1\n",
    "    for key, value in dict.items():\n",
    "        ii += f'{key}: {value} '\n",
    "    return print(ii)"
   ]
  },
  {
   "cell_type": "code",
   "execution_count": 68,
   "metadata": {},
   "outputs": [
    {
     "name": "stdout",
     "output_type": "stream",
     "text": [
      "gmail.com: 2 test.in: 1 ya.ru: 2 mail.ru: 1 \n"
     ]
    }
   ],
   "source": [
    "domen_q(emails1)"
   ]
  },
  {
   "cell_type": "markdown",
   "metadata": {},
   "source": [
    "Задание 5 (необязательное)\n",
    "Напишите функцию, которая будет подсчитывать сколько слов начинается на гласные, а сколько на согласные буквы в тексте (текст может быть написан как с использованием букв кириллицы, так и латиницы).\n",
    "\n",
    "Пример работы программы:\n",
    "\n",
    "some_text = 'Эталонной реализацией Python является интерпретатор CPython, поддерживающий большинство активно используемых платформ. Он распространяется под свободной лицензией Python Software Foundation License, позволяющей использовать его без ограничений в любых приложениях, включая проприетарные.'\n",
    "\n",
    "Результат:\n",
    "\n",
    "Слов на гласные буквы: 9\n",
    "Слов на согласные буквы: 21"
   ]
  },
  {
   "cell_type": "code",
   "execution_count": 69,
   "metadata": {},
   "outputs": [],
   "source": [
    "some_text1 = 'Эталонной реализацией Python является интерпретатор CPython, поддерживающий большинство активно используемых платформ. Он распространяется под свободной лицензией Python Software Foundation License, позволяющей использовать его без ограничений в любых приложениях, включая проприетарные.'"
   ]
  },
  {
   "cell_type": "code",
   "execution_count": 70,
   "metadata": {},
   "outputs": [],
   "source": [
    "def count_vowels_con_first_letters(some_text):\n",
    "    pattern_vowels = r'(?i)\\b[ауоыиэяюёеaeiou]+'\n",
    "    pattern_all = r'(?i)\\b\\w+'\n",
    "    vowels = len(re.findall(pattern_vowels, some_text))\n",
    "    all_ = len(re.findall(pattern_all, some_text))\n",
    "    consonants = all_ - vowels\n",
    "    return print(f'Слов на гласные буквы: {vowels} Слов на согласные буквы: {consonants}')\n"
   ]
  },
  {
   "cell_type": "code",
   "execution_count": 71,
   "metadata": {},
   "outputs": [
    {
     "name": "stdout",
     "output_type": "stream",
     "text": [
      "Слов на гласные буквы: 9 Слов на согласные буквы: 21\n"
     ]
    }
   ],
   "source": [
    "count_vowels_con_first_letters(some_text1)"
   ]
  },
  {
   "cell_type": "markdown",
   "metadata": {},
   "source": [
    "Задание 6 (необязательное)\n",
    "\n",
    "Напишите функцию, которая будет проверять номер сотового телефона на валидность (только для российского формата), если он валиден, то переводить его в формат:\n",
    "+7-xxx-xxx-xx-xx\n",
    "Постарайтесь предусмотреть как можно больше адекватных форматов изначального ввода номера. Примеры работы программы:\n",
    "\n",
    "phone = '+7 955 555-55-55'\n",
    "Результат: +7-950-555-55-55\n",
    "\n",
    "phone = '8(955)555-55-55'\n",
    "Результат: +7-950-555-55-55\n",
    "\n",
    "phone = '+7 955 555 55 55'\n",
    "Результат: +7-950-555-55-55\n",
    "\n",
    "phone = '7(955) 555-55-55'\n",
    "Результат: +7-950-555-55-55\n",
    "\n",
    "phone = '423-555-55-5555'\n",
    "Результат: Номер не валиден\n",
    "\n",
    "phone = '123-456-789'\n",
    "Результат: Номер не валиден"
   ]
  },
  {
   "cell_type": "code",
   "execution_count": 54,
   "metadata": {},
   "outputs": [],
   "source": [
    "phone1 = '7(955) 555-55-55'"
   ]
  },
  {
   "cell_type": "code",
   "execution_count": 55,
   "metadata": {},
   "outputs": [],
   "source": [
    "def russian_cellphone(phone):\n",
    "    pat11 = r'[\\+]7'\n",
    "    pat12 = r'[78]'\n",
    "    pat13 = r'9'\n",
    "    pat14 = r'\\('\n",
    "    p1 = r'\\d'\n",
    "\n",
    "    if re.match(pat11, phone) and len(re.findall(p1, phone)) == 11 and re.findall(p1, phone)[1] == '9':\n",
    "        print(f'+7-9{re.findall(p1, phone)[2]}{re.findall(p1, phone)[3]}-{re.findall(p1, phone)[4]}{re.findall(p1, phone)[5]}{re.findall(p1, phone)[6]}-{re.findall(p1, phone)[7]}{re.findall(p1, phone)[8]}-{re.findall(p1, phone)[9]}{re.findall(p1, phone)[10]}')\n",
    "    elif re.match(pat12, phone) and len(re.findall(p1, phone)) == 11 and re.findall(p1, phone)[1] == '9':\n",
    "        print(f'+7-9{re.findall(p1, phone)[2]}{re.findall(p1, phone)[3]}-{re.findall(p1, phone)[4]}{re.findall(p1, phone)[5]}{re.findall(p1, phone)[6]}-{re.findall(p1, phone)[7]}{re.findall(p1, phone)[8]}-{re.findall(p1, phone)[9]}{re.findall(p1, phone)[10]}')\n",
    "    elif re.match(pat13, phone) and len(re.findall(p1, phone)) == 10:\n",
    "        print(f'+7-9{re.findall(p1, phone)[1]}{re.findall(p1, phone)[2]}-{re.findall(p1, phone)[3]}{re.findall(p1, phone)[4]}{re.findall(p1, phone)[5]}-{re.findall(p1, phone)[6]}{re.findall(p1, phone)[7]}-{re.findall(p1, phone)[8]}{re.findall(p1, phone)[9]}')\n",
    "    elif re.match(pat14, phone) and len(re.findall(p1, phone)) == 10 and re.findall(p1, phone)[0] == '9':\n",
    "        print(f'+7-9{re.findall(p1, phone)[1]}{re.findall(p1, phone)[2]}-{re.findall(p1, phone)[3]}{re.findall(p1, phone)[4]}{re.findall(p1, phone)[5]}-{re.findall(p1, phone)[6]}{re.findall(p1, phone)[7]}-{re.findall(p1, phone)[8]}{re.findall(p1, phone)[9]}')\n",
    "    else:\n",
    "        print('Номер не валиден')"
   ]
  },
  {
   "cell_type": "code",
   "execution_count": 56,
   "metadata": {},
   "outputs": [
    {
     "name": "stdout",
     "output_type": "stream",
     "text": [
      "+7-955-555-55-55\n"
     ]
    }
   ],
   "source": [
    "russian_cellphone(phone1)"
   ]
  },
  {
   "cell_type": "code",
   "execution_count": null,
   "metadata": {},
   "outputs": [],
   "source": []
  }
 ],
 "metadata": {
  "kernelspec": {
   "display_name": "Python 3",
   "language": "python",
   "name": "python3"
  },
  "language_info": {
   "codemirror_mode": {
    "name": "ipython",
    "version": 3
   },
   "file_extension": ".py",
   "mimetype": "text/x-python",
   "name": "python",
   "nbconvert_exporter": "python",
   "pygments_lexer": "ipython3",
   "version": "3.7.6"
  }
 },
 "nbformat": 4,
 "nbformat_minor": 4
}
